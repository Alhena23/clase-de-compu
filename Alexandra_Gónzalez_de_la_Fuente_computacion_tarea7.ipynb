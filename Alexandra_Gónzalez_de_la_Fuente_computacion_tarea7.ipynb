{
  "cells": [
    {
      "cell_type": "markdown",
      "metadata": {
        "id": "ekK5lkF7t91E"
      },
      "source": [
        "# Tarea 7: Revisión de los conceptos básicos de Python\n",
        "### Computación - 8108\n",
        "#### Facultad de Ciencias - UNAM\n",
        "#### Profesores: C. Fís. Omar Trejo, C. Fís. Iván Jiménez, Pedro Flores-Silva\n",
        "\n",
        "Instrucciones: Este notebook contiene una serie de ejercicios que deben ser resueltos. Cada ejercicio se encuentra en una celda, ya sea de código o Markdown. Debes crear una o dos *celdas debajo de cada ejercicio* con tu(s) respectiva(s) respuestas. No modifiques las celdas originales.\n",
        "Recuerda que para ejecutar el código de una celda, presionar `Ctlr + Enter` o bien el boton de `play` en el editor Jupyter notebook.\n",
        "\n",
        "Cada ejercicio tendrá diferente valor, y se indicará en la celda de éste. La calificación final será la suma de los puntos obtenidos en cada ejercicio. Se calificará considerando la calidad de la respuesta, la claridad de la explicación y la correctitud del código. Por ejemplo, si el código no ejecuta la respuesta correcta pero se da una idea textual, se demuestra que hay comprensión del problema y el código hace sentido para el revisor, se otorgará una calificación parcial. Esto es, las respuestas no solo se evaluarán como bien o mal, sino que se considerará el esfuerzo. \n",
        "\n",
        "El codigo que realices debes comentarlo donde creas necesario, no vale no hacer ningún comentario. Recuerda que los comentarios son importantes para que el código sea legible y entendible, éstos se agregan con el símbolo # ."
      ]
    },
    {
      "cell_type": "markdown",
      "metadata": {
        "id": "eOzuhd79t91H"
      },
      "source": [
        "### Ejercicio 1 (1 punto):\n",
        "En una celda Markdown contesta: ¿Qué es un nombre reservado en python? Enlista 5 ejemplos de nombres reservados en python y describe su función (aquí debes investigar su función si es que aún no hemos tratado dicho nombre reservado)."
      ]
    },
    {
      "cell_type": "markdown",
      "source": [],
      "metadata": {
        "id": "TNZhvsMZbhQJ"
      }
    },
    {
      "cell_type": "markdown",
      "source": [],
      "metadata": {
        "id": "BAccgyy-bgmk"
      }
    },
    {
      "cell_type": "markdown",
      "source": [
        "##Respuesta:\n",
        "\n",
        "Como su nombre lo indican, son palabras/nombres a las cuales el lenguaje de programación ya ha asignado una tarea específica. Por lo que nosotros no podemos nombrar una variables con el mismo nombre que una palabra reservaba.\n",
        "Algunos ejemplos son:\n",
        "\n",
        "* None – Representa a un valor nulo\n",
        "* Await – Proporcionada por la biblioteca ‘asyncio’ en Python. Se utiliza para escribir código concurrente en Python\n",
        "* Class – Se usa para definir una nueva clase definida por el usuario\n",
        "* Continue – Se utiliza en el interior de los bucles for y while para alterar su comportamiento normal\n",
        "* Finally – Su uso garantiza que el bloque de código dentro de él se ejecute incluso si hay una excepción no controlada\n",
        "\n",
        "\n",
        "\n",
        "\n"
      ],
      "metadata": {
        "id": "tNKvHgt5boAY"
      }
    },
    {
      "cell_type": "markdown",
      "metadata": {
        "id": "y2wvUcAmt91I"
      },
      "source": [
        "### Ejercicio 2 (1 punto):\n",
        "En una celda Markdown: Coloca tres ejemplos de nombres de variables que no son válidos en python. Explica por qué no son válidos."
      ]
    },
    {
      "cell_type": "markdown",
      "source": [
        "##Respuesta:\n",
        "\n",
        "* \"False\" no se le puede saignar ninun valor pues es una palabra reservada\n",
        "* \"True\" al ser una palabra reservada tampoco podemos asignarle ninún valor\n",
        "* \"None\" tampoco podemos asignarle un valor pues arrojaría Syntaxerror ya que es una palabra reservada"
      ],
      "metadata": {
        "id": "N3nYcPsae-aX"
      }
    },
    {
      "cell_type": "markdown",
      "metadata": {
        "id": "L8oL227Wt91I"
      },
      "source": [
        "### Ejercicio 3 (3 puntos):\n",
        "Considera el siguiente polinomio: $f(x) = 10x^2 - 2x$. \n",
        "\n",
        "En una celda Markdown escribe:\n",
        "* Los pasos para encontrar sus raíces a través del método del despeje.\n",
        "* Los pasos para encontrar sus raíces a través del método de la chicharronera.\n",
        "\n",
        "En una celda de código, escribe un programa que compruebe que las raíces del polinomio $f(x) = 10x^2 - 2x$ que tu encontraste son correctas. El programa debe imprimir las raíces en la pantalla. (Debes usar la ecuación que obtuviste al depejar el polinomio).\n",
        "\n",
        "En otra celda de código, escribe un programa que encuentre las raíces del polinomio $f(x) = 10x^2 - 2x$ a través del método de la chicharronera. El programa debe imprimir las raíces en la pantalla. (Debes usar la chicharronera).\n",
        "\n",
        "Considera los signos de la chicharronera como dos operaciones diferentes: $(-)$ y $(+)$."
      ]
    },
    {
      "cell_type": "markdown",
      "source": [
        "##Respuesta:\n",
        "\n",
        "1.   Encontrar raíces despejando \n",
        "\n",
        "*   Simplificamos y obtenemos factor común\n",
        "\n",
        "  $10x^2-2x=0$\n",
        "\n",
        "  $5x^2-x=0$\n",
        "\n",
        "  $x(5x-1)=0$\n",
        "\n",
        "*   Sacamos obtenemos nuestra sietma de ecuaciones y lo resolvemos \n",
        "\n",
        " $5x-1=0$\n",
        "\n",
        " $x=1/5$ \n",
        " y\n",
        " $x=0$ \n",
        "\n",
        "\n",
        "2.   Encontrar raíces con la fórmula general\n",
        "\n",
        "\n",
        "*   Simplificamos el polinomio \n",
        "\n",
        " $10x^2-2x=0$\n",
        "\n",
        "  $5x^2-x=0$\n",
        "\n",
        "\n",
        "\n",
        "*   Sustituimos lo valores en la fórmula\n",
        "\n",
        "  $x=\\frac{-(-1)±(\\sqrt{-1^2-4(5)(0)}}{2(5)}$\n",
        "  \n",
        "  $x=\\frac{-(-1)±(\\sqrt{(1-0)}}{10}$\n",
        "\n",
        "   $x=\\frac{1±1}{10}$\n",
        "\n",
        "* Obtenemos las posibles x por signos\n",
        "\n",
        " $x(+)=\\frac{1+1}{10}$  $x=0$\n",
        "\n",
        " $x(-)=\\frac{1-1}{10}$ $x=\\frac{1}{5}$\n",
        "\n",
        "\n",
        "\n",
        "\n",
        "\n"
      ],
      "metadata": {
        "id": "7nS5av8mgBft"
      }
    },
    {
      "cell_type": "code",
      "source": [
        "### Ahora escribiremos el programa que nos dirá, si las ecuaciones encontradas son correctas:\n",
        "\n",
        "#Empexamos defininedo nuestra variable d que será igual a 0, pues es al valor que queremos llegar para comprobar si es o no raíz \n",
        "d=0\n",
        "\n",
        "def Comprobar(valor):\n",
        "    x = valor\n",
        "  #Introducimos nuestra operación obtenida al sacar factor común\n",
        "    y = x*(5*(x)-1)\n",
        "    if (y==d):\n",
        "        print (x, \"Es raíz\") #Esto quiere decir que si el valor obtenido de y coincide con d que es 0, entonces si es raíz\n",
        "    else:\n",
        "        print (x, \"No es raíz\") #En el caso de que y no coincida con 0, enconces no será raíz \n",
        "      #Al poner print se mostrará si es o no ráiz\n",
        "\n",
        "#Ahora veremos si lo que obtenemos coincide con nuestros resultados anterioreses decir, x=0 y x=1/5\n"
      ],
      "metadata": {
        "id": "iVyx9wJxcI9m"
      },
      "execution_count": 22,
      "outputs": []
    },
    {
      "cell_type": "code",
      "source": [
        "###Respuesta (chicharronera):\n",
        "\n",
        "def Chicharronera(a,b,c):\n",
        "#Se traspasa dos veces la fórmula general a código, una con la posibilidad positiva de la operación, y la otra con la negativa.\n",
        "    x1 = (-b+((b**2-(4*a*c))**(1/2)))/(2*a)\n",
        "    #A la posibilidad positiva de la fórmula se le asigna el valor x1.\n",
        "    x2 = (-b-((b**2-(4*a*c))**(1/2)))/(2*a)\n",
        "    #A la posibilidad negativa de la fórmula se le asigna el valor x2.\n",
        "    \n",
        "    #Se imprime \"Las raices son x1, x2\".\n",
        "    print(\"Las raicez son: {} y {}\".format(x1,x2))\n",
        "\n",
        "#Ahora se resuelve el polinomio original la chicharronera, dando como resultado\n",
        "Chicharronera(10,-2,0)"
      ],
      "metadata": {
        "id": "ZHPnu-VDuBuc",
        "colab": {
          "base_uri": "https://localhost:8080/"
        },
        "outputId": "dba403f3-48af-426d-9243-a7b189bf8e40"
      },
      "execution_count": null,
      "outputs": [
        {
          "output_type": "stream",
          "name": "stdout",
          "text": [
            "Las raicez son: 0.2 y 0.0\n"
          ]
        }
      ]
    },
    {
      "cell_type": "markdown",
      "metadata": {
        "id": "sj00KFcvt91I"
      },
      "source": [
        "### Ejercicio 4 (3 puntos):\n",
        "Caida libre: El gran Galileo Galilei subió la torre de Pisa para determinar el tiempo que tarda un objeto en caer desde una altura $H$ al suelo. Para ello, colocó un objeto de masa $m=100$ kg en la torre y lo dejó caer. El tiempo que tardó en caer fue $t=0.05616667$ minutos.\n",
        "\n",
        "Considerando que la aceleración de la gravedad es $g=9.8$ $\\frac{m}{s^2}$, escribe un programa que determine la altura de la torre de Pisa. El programa debe imprimir la altura en la pantalla.\n",
        "\n",
        "Recuerda que el movimiento de caída libre simplificado cumple la ecuación: $y(t) = H + vt - \\frac{1}{2}gt^2$.\n"
      ]
    },
    {
      "cell_type": "code",
      "source": [
        "###Respuesta:\n",
        "\n",
        "def Altura_en_MUA_sin_friccion(t,v,y):\n",
        "    #Se establece el valor de la aceleración gravitatoria.\n",
        "    g = 9.8\n",
        "    #Se da la formula despejada para la altura inicial cn MUA (sin fricción), y se le asigna el valor a \"H\".\n",
        "    H = y-(v*t)+((1/2)*g*(t**2))\n",
        "    #Se imprime \"La altura, en metros, es H\"\n",
        "    print (\"La altura, en metros, es\", H)\n",
        "\n",
        "#Ahora se calcula el tiempo en segundos, y una vez obtenido se introduce en la función definida para así dar la altura.\n",
        "tm = 0.05616667\n",
        "s = tm*60\n",
        "Altura_en_MUA_sin_friccion(s,0,0)\n"
      ],
      "metadata": {
        "id": "WtnEkjrJt-2p",
        "colab": {
          "base_uri": "https://localhost:8080/"
        },
        "outputId": "1f482bb1-c0fd-4fc5-e5f3-f977c7aca1ed"
      },
      "execution_count": 12,
      "outputs": [
        {
          "output_type": "stream",
          "name": "stdout",
          "text": [
            "La altura, en metros, es 55.64881660520021\n"
          ]
        }
      ]
    },
    {
      "cell_type": "markdown",
      "metadata": {
        "id": "bZjdInElt91J"
      },
      "source": [
        "### Ejercicio 5 (2 puntos):\n",
        "Considera una lista de números enteros del 0 al 99 : `lista = [0,1, 2, 3, 4, ... , 95, 96, 97, 98, 99]`.\n",
        "En una celda de código, escribe un programa que imprima en la pantalla una la lista que cumpla con las siguientes condiciones:\n",
        "* Los ultimos 10 elementos: debe imprimir lo siguiente `[90, 91, 92, 93, 94, 95, 96, 97, 98, 99]`.\n",
        "* Los primeros 11 elementos: debe imprimir lo siguiente `[0, 1, 2, 3, 4, 5, 6, 7, 8, 9, 10]`.\n",
        "* La serie de elementos de la lista que están entre 60 y 75: debe imprimir lo siguiente `[60, 61, 62, 63, 64, 65, 66, 67, 68, 69, 70, 71, 72, 73, 74, 75]`.\n",
        "* El número 50: debe imprimir lo siguiente `50`.\n",
        "\n",
        "Debes aplicar el concepto de *slicing* para resolver este ejercicio (notación de puntos `[:]`).\n",
        "\n",
        "Puntos menos si se crean listas nuevas para cada caso y/o se seleccionan manualmente los valores.\n",
        "\n",
        "El código de abajo te ayudará a crear la lista del 0 al 99."
      ]
    },
    {
      "cell_type": "code",
      "execution_count": null,
      "metadata": {
        "id": "7vHbSV9bt91J"
      },
      "outputs": [],
      "source": [
        "lista = list(range(100))"
      ]
    },
    {
      "cell_type": "code",
      "source": [
        "###Respuesta:\n",
        "\n",
        "#Se da una lista auxiliar con 100 elementos\n",
        "lista = list(range(100))\n",
        "#Se establece una nueva lista que reune los intervalos requeridos.\n",
        "llista = lista[0:11]+lista[50:51]+lista[60:76]+lista[90:100]\n",
        "#Se imprimen los valores solicitados de la lista requerida.\n",
        "print (llista[-10:])\n",
        "print (llista[:11])\n",
        "print (llista[12:-10])\n",
        "print (llista[11])"
      ],
      "metadata": {
        "id": "0szKGpNguOvU"
      },
      "execution_count": null,
      "outputs": []
    },
    {
      "cell_type": "markdown",
      "metadata": {
        "id": "tEaOwibwt91K"
      },
      "source": [
        "### Puntos extras, este ejercicio es opcional (5 puntos):\n",
        "Replica el código visto en clase para simular los volados. Discute los resultados obtenidos. ¿Qué observas? ¿Qué puedes concluir? ¿Qué pasa cuando la cantidad de volados es muy pequeña? ¿Qué pasa cuando la cantidad de volados es muy grande?\n",
        "\n",
        "En caso de errores con librerias no encontradas, debes hacer en una celda de código lo siguiente:\n",
        "\n",
        "`!pip install nombre_de_la_libreria`. Por ejemplo para plotly: `!pip install plotly`."
      ]
    },
    {
      "cell_type": "code",
      "execution_count": null,
      "metadata": {
        "id": "dMb_Bh4Tt91K",
        "outputId": "b9c0aff2-d7fd-4cfd-fa9e-8009df3afcdf"
      },
      "outputs": [
        {
          "name": "stdout",
          "output_type": "stream",
          "text": [
            "Defaulting to user installation because normal site-packages is not writeable\n",
            "Requirement already satisfied: plotly in c:\\programdata\\anaconda3\\lib\\site-packages (5.9.0)\n",
            "Requirement already satisfied: tenacity>=6.2.0 in c:\\programdata\\anaconda3\\lib\\site-packages (from plotly) (8.0.1)\n"
          ]
        }
      ],
      "source": [
        "!pip install plotly"
      ]
    }
  ],
  "metadata": {
    "kernelspec": {
      "display_name": "Python 3.9.13 ('base')",
      "language": "python",
      "name": "python3"
    },
    "language_info": {
      "codemirror_mode": {
        "name": "ipython",
        "version": 3
      },
      "file_extension": ".py",
      "mimetype": "text/x-python",
      "name": "python",
      "nbconvert_exporter": "python",
      "pygments_lexer": "ipython3",
      "version": "3.9.13"
    },
    "orig_nbformat": 4,
    "vscode": {
      "interpreter": {
        "hash": "ad2bdc8ecc057115af97d19610ffacc2b4e99fae6737bb82f5d7fb13d2f2c186"
      }
    },
    "colab": {
      "provenance": []
    }
  },
  "nbformat": 4,
  "nbformat_minor": 0
}