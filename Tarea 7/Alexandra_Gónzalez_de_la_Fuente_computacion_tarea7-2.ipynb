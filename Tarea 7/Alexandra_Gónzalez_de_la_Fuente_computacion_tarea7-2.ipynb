{
  "cells": [
    {
      "cell_type": "markdown",
      "metadata": {
        "id": "ekK5lkF7t91E"
      },
      "source": [
        "# Tarea 7: Revisión de los conceptos básicos de Python\n",
        "### Computación - 8108\n",
        "#### Facultad de Ciencias - UNAM\n",
        "#### Profesores: C. Fís. Omar Trejo, C. Fís. Iván Jiménez, Pedro Flores-Silva\n",
        "\n",
        "Instrucciones: Este notebook contiene una serie de ejercicios que deben ser resueltos. Cada ejercicio se encuentra en una celda, ya sea de código o Markdown. Debes crear una o dos *celdas debajo de cada ejercicio* con tu(s) respectiva(s) respuestas. No modifiques las celdas originales.\n",
        "Recuerda que para ejecutar el código de una celda, presionar `Ctlr + Enter` o bien el boton de `play` en el editor Jupyter notebook.\n",
        "\n",
        "Cada ejercicio tendrá diferente valor, y se indicará en la celda de éste. La calificación final será la suma de los puntos obtenidos en cada ejercicio. Se calificará considerando la calidad de la respuesta, la claridad de la explicación y la correctitud del código. Por ejemplo, si el código no ejecuta la respuesta correcta pero se da una idea textual, se demuestra que hay comprensión del problema y el código hace sentido para el revisor, se otorgará una calificación parcial. Esto es, las respuestas no solo se evaluarán como bien o mal, sino que se considerará el esfuerzo. \n",
        "\n",
        "El codigo que realices debes comentarlo donde creas necesario, no vale no hacer ningún comentario. Recuerda que los comentarios son importantes para que el código sea legible y entendible, éstos se agregan con el símbolo # ."
      ]
    },
    {
      "cell_type": "markdown",
      "metadata": {
        "id": "eOzuhd79t91H"
      },
      "source": [
        "### Ejercicio 1 (1 punto):\n",
        "En una celda Markdown contesta: ¿Qué es un nombre reservado en python? Enlista 5 ejemplos de nombres reservados en python y describe su función (aquí debes investigar su función si es que aún no hemos tratado dicho nombre reservado)."
      ]
    },
    {
      "cell_type": "markdown",
      "source": [],
      "metadata": {
        "id": "TNZhvsMZbhQJ"
      }
    },
    {
      "cell_type": "markdown",
      "source": [],
      "metadata": {
        "id": "BAccgyy-bgmk"
      }
    },
    {
      "cell_type": "markdown",
      "source": [
        "##Respuesta:\n",
        "\n",
        "Como su nombre lo indican, son palabras/nombres a las cuales el lenguaje de programación ya ha asignado una tarea específica. Por lo que nosotros no podemos nombrar una variables con el mismo nombre que una palabra reservaba.\n",
        "Algunos ejemplos son:\n",
        "\n",
        "* None – Representa a un valor nulo\n",
        "* Await – Proporcionada por la biblioteca ‘asyncio’ en Python. Se utiliza para escribir código concurrente en Python\n",
        "* Class – Se usa para definir una nueva clase definida por el usuario\n",
        "* Continue – Se utiliza en el interior de los bucles for y while para alterar su comportamiento normal\n",
        "* Finally – Su uso garantiza que el bloque de código dentro de él se ejecute incluso si hay una excepción no controlada\n",
        "\n",
        "\n",
        "\n",
        "\n"
      ],
      "metadata": {
        "id": "tNKvHgt5boAY"
      }
    },
    {
      "cell_type": "markdown",
      "metadata": {
        "id": "y2wvUcAmt91I"
      },
      "source": [
        "### Ejercicio 2 (1 punto):\n",
        "En una celda Markdown: Coloca tres ejemplos de nombres de variables que no son válidos en python. Explica por qué no son válidos."
      ]
    },
    {
      "cell_type": "markdown",
      "source": [
        "##Respuesta:\n",
        "\n",
        "* \"False\" no se le puede saignar ninun valor pues es una palabra reservada\n",
        "* \"True\" al ser una palabra reservada tampoco podemos asignarle ninún valor\n",
        "* \"None\" tampoco podemos asignarle un valor pues arrojaría Syntaxerror ya que es una palabra reservada"
      ],
      "metadata": {
        "id": "N3nYcPsae-aX"
      }
    },
    {
      "cell_type": "markdown",
      "metadata": {
        "id": "L8oL227Wt91I"
      },
      "source": [
        "### Ejercicio 3 (3 puntos):\n",
        "Considera el siguiente polinomio: $f(x) = 10x^2 - 2x$. \n",
        "\n",
        "En una celda Markdown escribe:\n",
        "* Los pasos para encontrar sus raíces a través del método del despeje.\n",
        "* Los pasos para encontrar sus raíces a través del método de la chicharronera.\n",
        "\n",
        "En una celda de código, escribe un programa que compruebe que las raíces del polinomio $f(x) = 10x^2 - 2x$ que tu encontraste son correctas. El programa debe imprimir las raíces en la pantalla. (Debes usar la ecuación que obtuviste al depejar el polinomio).\n",
        "\n",
        "En otra celda de código, escribe un programa que encuentre las raíces del polinomio $f(x) = 10x^2 - 2x$ a través del método de la chicharronera. El programa debe imprimir las raíces en la pantalla. (Debes usar la chicharronera).\n",
        "\n",
        "Considera los signos de la chicharronera como dos operaciones diferentes: $(-)$ y $(+)$."
      ]
    },
    {
      "cell_type": "markdown",
      "source": [
        "##Respuesta:\n",
        "\n",
        "1.   Encontrar raíces despejando \n",
        "\n",
        "*   Simplificamos y obtenemos factor común\n",
        "\n",
        "  $10x^2-2x=0$\n",
        "\n",
        "  $5x^2-x=0$\n",
        "\n",
        "  $x(5x-1)=0$\n",
        "\n",
        "*   Sacamos obtenemos nuestra sietma de ecuaciones y lo resolvemos \n",
        "\n",
        " $5x-1=0$\n",
        "\n",
        " $x=1/5$ \n",
        " y\n",
        " $x=0$ \n",
        "\n",
        "\n",
        "2.   Encontrar raíces con la fórmula general\n",
        "\n",
        "\n",
        "*   Simplificamos el polinomio \n",
        "\n",
        " $10x^2-2x=0$\n",
        "\n",
        "  $5x^2-x=0$\n",
        "\n",
        "\n",
        "\n",
        "*   Sustituimos lo valores en la fórmula\n",
        "\n",
        "  $x=\\frac{-(-1)±(\\sqrt{-1^2-4(5)(0)}}{2(5)}$\n",
        "  \n",
        "  $x=\\frac{-(-1)±(\\sqrt{(1-0)}}{10}$\n",
        "\n",
        "   $x=\\frac{1±1}{10}$\n",
        "\n",
        "* Obtenemos las posibles x por signos\n",
        "\n",
        " $x(+)=\\frac{1+1}{10}$  $x=0$\n",
        "\n",
        " $x(-)=\\frac{1-1}{10}$ $x=\\frac{1}{5}$\n",
        "\n",
        "\n",
        "\n",
        "\n",
        "\n"
      ],
      "metadata": {
        "id": "7nS5av8mgBft"
      }
    },
    {
      "cell_type": "code",
      "source": [
        "\n",
        "### Ahora escribiremos el programa que nos dirá, si las ecuaciones encontradas son correctas:\n",
        "###POR DESPEJE:\n",
        "#Empexamos defininedo nuestra variable d que será igual a 0, pues es al valor que queremos llegar para comprobar si es o no raíz \n",
        "d=0\n",
        "\n",
        "def Despeje(valor):\n",
        "    x = valor\n",
        "    #Introducimos nuestra operación obtenida al sacar factor común\n",
        "    y = x*(5*(x)-1)\n",
        "    if (y==a):\n",
        "        print (x, \"Es raíz\") #Esto quiere decir que si el valor obtenido de y coincide con d que es 0, entonces si es raíz\n",
        "    else:\n",
        "        print (x, \"No es raíz\") #En el caso de que y no coincida con 0, enconces no será raíz \n",
        "      #Al poner print se mostrará si es o no ráiz\n",
        "\n",
        "#Ahora veremos si lo que obtenemos coincide con nuestros resultados anterioreses\n",
        "Despeje(0)\n",
        "Despeje(1/5)\n",
        "\n"
      ],
      "metadata": {
        "colab": {
          "base_uri": "https://localhost:8080/"
        },
        "id": "o-ltB_cyegE9",
        "outputId": "16f8f0d0-39ac-4e09-a8fa-1da7b5c750cb"
      },
      "execution_count": 50,
      "outputs": [
        {
          "output_type": "stream",
          "name": "stdout",
          "text": [
            "0 Es raíz\n",
            "0.2 Es raíz\n"
          ]
        }
      ]
    },
    {
      "cell_type": "code",
      "source": [
        "###POR FÓRMULA GENERAL:\n",
        "\n",
        "def General(a,b,c):\n",
        "    suma = (-b+((b**2-(4*a*c))**(1/2)))/(2*a) #Debemos de poner meter la frómula 2 veces, pues podemos obtener 2 resultados diferentes.\n",
        "   \n",
        "    resta = (-b-((b**2-(4*a*c))**(1/2)))/(2*a)\n",
        "    #Las 2 opciones donde una es la suma y la otra es resta\n",
        "    print(\"Las raicez son: {} y {}\".format(suma,resta)) #Con esto se imprimiran las 2 raíces obtenidas en la suma y resta.\n",
        "\n",
        "#Da como resultado\n",
        "General(10,-2,0)"
      ],
      "metadata": {
        "id": "ZHPnu-VDuBuc",
        "colab": {
          "base_uri": "https://localhost:8080/"
        },
        "outputId": "d00ce798-3987-46f6-dae9-62f10e2963f6"
      },
      "execution_count": 49,
      "outputs": [
        {
          "output_type": "stream",
          "name": "stdout",
          "text": [
            "Las raicez son: 0.2 y 0.0\n"
          ]
        }
      ]
    },
    {
      "cell_type": "markdown",
      "metadata": {
        "id": "sj00KFcvt91I"
      },
      "source": [
        "### Ejercicio 4 (3 puntos):\n",
        "Caida libre: El gran Galileo Galilei subió la torre de Pisa para determinar el tiempo que tarda un objeto en caer desde una altura $H$ al suelo. Para ello, colocó un objeto de masa $m=100$ kg en la torre y lo dejó caer. El tiempo que tardó en caer fue $t=0.05616667$ minutos.\n",
        "\n",
        "Considerando que la aceleración de la gravedad es $g=9.8$ $\\frac{m}{s^2}$, escribe un programa que determine la altura de la torre de Pisa. El programa debe imprimir la altura en la pantalla.\n",
        "\n",
        "Recuerda que el movimiento de caída libre simplificado cumple la ecuación: $y(t) = H + vt - \\frac{1}{2}gt^2$.\n"
      ]
    },
    {
      "cell_type": "code",
      "source": [
        "###Respuesta:\n",
        "\n",
        "def MUA(t,v,y):\n",
        "    g = 9.8 #Introducimos el valor de la gravedad\n",
        "    H = y-(v*t)+((1/2)*g*(t**2)) #Una vez desoejada la fórmula para la altura, la introducimos \n",
        "\n",
        "    print (\"La altura es\", H, \"metros\") #Con esto imprimimos el H\n",
        "\n",
        "tm = 0.05616667\n",
        "s = tm*60 #Ahora solo falta pasar el tiempo a segundos\n",
        "MUA(s,0,0)\n",
        "\n",
        "   "
      ],
      "metadata": {
        "id": "WtnEkjrJt-2p",
        "colab": {
          "base_uri": "https://localhost:8080/"
        },
        "outputId": "94fff011-fa04-49a0-ffeb-82b5ab13185a"
      },
      "execution_count": 60,
      "outputs": [
        {
          "output_type": "stream",
          "name": "stdout",
          "text": [
            "La altura es 55.64881660520021 metros\n"
          ]
        }
      ]
    },
    {
      "cell_type": "markdown",
      "metadata": {
        "id": "bZjdInElt91J"
      },
      "source": [
        "### Ejercicio 5 (2 puntos):\n",
        "Considera una lista de números enteros del 0 al 99 : `lista = [0,1, 2, 3, 4, ... , 95, 96, 97, 98, 99]`.\n",
        "En una celda de código, escribe un programa que imprima en la pantalla una la lista que cumpla con las siguientes condiciones:\n",
        "* Los ultimos 10 elementos: debe imprimir lo siguiente `[90, 91, 92, 93, 94, 95, 96, 97, 98, 99]`.\n",
        "* Los primeros 11 elementos: debe imprimir lo siguiente `[0, 1, 2, 3, 4, 5, 6, 7, 8, 9, 10]`.\n",
        "* La serie de elementos de la lista que están entre 60 y 75: debe imprimir lo siguiente `[60, 61, 62, 63, 64, 65, 66, 67, 68, 69, 70, 71, 72, 73, 74, 75]`.\n",
        "* El número 50: debe imprimir lo siguiente `50`.\n",
        "\n",
        "Debes aplicar el concepto de *slicing* para resolver este ejercicio (notación de puntos `[:]`).\n",
        "\n",
        "Puntos menos si se crean listas nuevas para cada caso y/o se seleccionan manualmente los valores.\n",
        "\n",
        "El código de abajo te ayudará a crear la lista del 0 al 99."
      ]
    },
    {
      "cell_type": "code",
      "execution_count": null,
      "metadata": {
        "id": "7vHbSV9bt91J"
      },
      "outputs": [],
      "source": [
        "lista = list(range(100))"
      ]
    },
    {
      "cell_type": "code",
      "source": [
        "###Respuesta:\n",
        "\n",
        "#Primero nombramos nuestra lista del 0 al 99\n",
        "lista = list(range(100))\n",
        "lista_completa = lista[0:11]+lista[12:51]+lista[51:76]+lista[90:100] #Establecemos nuestra lista con las especificaciones \n",
        "print (lista_completa) #Imprimimos nuestra lista completa con las especificaciones"
      ],
      "metadata": {
        "id": "0szKGpNguOvU",
        "colab": {
          "base_uri": "https://localhost:8080/"
        },
        "outputId": "4f125c90-94b2-44b7-ec16-689b0106f4d5"
      },
      "execution_count": 72,
      "outputs": [
        {
          "output_type": "stream",
          "name": "stdout",
          "text": [
            "[0, 1, 2, 3, 4, 5, 6, 7, 8, 9, 10, 12, 13, 14, 15, 16, 17, 18, 19, 20, 21, 22, 23, 24, 25, 26, 27, 28, 29, 30, 31, 32, 33, 34, 35, 36, 37, 38, 39, 40, 41, 42, 43, 44, 45, 46, 47, 48, 49, 50, 51, 52, 53, 54, 55, 56, 57, 58, 59, 60, 61, 62, 63, 64, 65, 66, 67, 68, 69, 70, 71, 72, 73, 74, 75, 90, 91, 92, 93, 94, 95, 96, 97, 98, 99]\n"
          ]
        }
      ]
    },
    {
      "cell_type": "markdown",
      "metadata": {
        "id": "tEaOwibwt91K"
      },
      "source": [
        "### Puntos extras, este ejercicio es opcional (5 puntos):\n",
        "Replica el código visto en clase para simular los volados. Discute los resultados obtenidos. ¿Qué observas? ¿Qué puedes concluir? ¿Qué pasa cuando la cantidad de volados es muy pequeña? ¿Qué pasa cuando la cantidad de volados es muy grande?\n",
        "\n",
        "En caso de errores con librerias no encontradas, debes hacer en una celda de código lo siguiente:\n",
        "\n",
        "`!pip install nombre_de_la_libreria`. Por ejemplo para plotly: `!pip install plotly`."
      ]
    },
    {
      "cell_type": "code",
      "execution_count": null,
      "metadata": {
        "id": "dMb_Bh4Tt91K",
        "outputId": "b9c0aff2-d7fd-4cfd-fa9e-8009df3afcdf"
      },
      "outputs": [
        {
          "name": "stdout",
          "output_type": "stream",
          "text": [
            "Defaulting to user installation because normal site-packages is not writeable\n",
            "Requirement already satisfied: plotly in c:\\programdata\\anaconda3\\lib\\site-packages (5.9.0)\n",
            "Requirement already satisfied: tenacity>=6.2.0 in c:\\programdata\\anaconda3\\lib\\site-packages (from plotly) (8.0.1)\n"
          ]
        }
      ],
      "source": [
        "!pip install plotly"
      ]
    }
  ],
  "metadata": {
    "kernelspec": {
      "display_name": "Python 3.9.13 ('base')",
      "language": "python",
      "name": "python3"
    },
    "language_info": {
      "codemirror_mode": {
        "name": "ipython",
        "version": 3
      },
      "file_extension": ".py",
      "mimetype": "text/x-python",
      "name": "python",
      "nbconvert_exporter": "python",
      "pygments_lexer": "ipython3",
      "version": "3.9.13"
    },
    "orig_nbformat": 4,
    "vscode": {
      "interpreter": {
        "hash": "ad2bdc8ecc057115af97d19610ffacc2b4e99fae6737bb82f5d7fb13d2f2c186"
      }
    },
    "colab": {
      "provenance": []
    }
  },
  "nbformat": 4,
  "nbformat_minor": 0
}